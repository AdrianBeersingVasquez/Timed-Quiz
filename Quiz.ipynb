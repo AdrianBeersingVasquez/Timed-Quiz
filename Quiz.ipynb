{
 "cells": [
  {
   "cell_type": "code",
   "execution_count": 2,
   "id": "4356ba65",
   "metadata": {},
   "outputs": [],
   "source": [
    "from time import *\n",
    "import threading"
   ]
  },
  {
   "cell_type": "code",
   "execution_count": 3,
   "id": "aef46e20",
   "metadata": {},
   "outputs": [],
   "source": [
    "def countdown ():\n",
    "    global my_timer\n",
    "    my_timer = 8\n",
    "    \n",
    "    while my_timer:\n",
    "        print(my_timer)\n",
    "        my_timer = my_timer -1\n",
    "        sleep(1)\n"
   ]
  },
  {
   "cell_type": "code",
   "execution_count": 4,
   "id": "f6b080bd",
   "metadata": {},
   "outputs": [],
   "source": [
    "questions_and_answers = {\n",
    "            \"1) When did World War 1 happen? \\nA) 1905 - 1910 \\nB) 1901 - 1905 \\nC) 1914 - 1918 \\nD) 1914 - 1916\": \"C\",\n",
    "            \"2) What is the capital of Spain? \\nA) Barcelona \\nB) Madrid \\nC) Valencia \\nD) Lisbon\": \"B\",\n",
    "            \"3) Where did the original Titanic occur? \\nA) Baltic Sea \\nB) Pacific Ocean \\nC) Atlantic Ocean \\nD) North Atlantic Ocean\": \"D\",\n",
    "            \"4) What are baby rabbits called? \\nA) Kits \\nB) Cubs \\nC) Lambs \\nD) Puppies\": \"A\",\n",
    "            \"5) What is the largest bone in the human body? \\nA) Shin \\nB) Collar bone \\nC) Femur \\nD) Pelvic bone\": \"C\",\n",
    "            \"6) What animal has the biggest eyes? \\nA) Elephant \\nB) Cow \\nC) Colossal Squid \\nD) Whale\": \"C\",\n",
    "            \"7) How many colors are in the rainbow? \\nA) 10 \\nB) 12 \\nC) 7 \\nD) 8\": \"C\",\n",
    "            \"8) What is the biggest animal that ever lived? \\nA) Elephant \\nB) Mammot \\nC) Blue Whale \\nD) Dinosaur\": \"C\",\n",
    "            \"9) What is the smallest inhabited island in the world? \\nA) Seychelles \\nB) New Guernsey \\nC) Bishop Rock \\nD) Cayman Islands\": \"C\",\n",
    "            \"10) What is the longest river in the world? \\nA) Amazon River \\nB) Nile River \\nC) Thames River \\nD) Yellow River\": \"B\",\n",
    "            \"11) How many legs does a spider have? \\nA) 6 \\nB) 8 \\nC) 10 \\nD) 12\": \"B\",\n",
    "            \"12) What is the largest continent on earth? \\nA) Asia \\nB) Africa \\nC) North America \\nD) Europe\":\"A\",\n",
    "            \"13) When was python first released? \\nA) 1990 \\nB) 1988 \\nC) 1991 \\nD) 1992\": \"C\",\n",
    "            \"14) What does 'www' stand for in the website browser? \\nA) Whole Wide World \\nB) World Wide Web \\nC) Windows World Web \\nD) Whole World Web\" : \"B\",\n",
    "            \"15) How long is the Olympic swimming pool (in meters)? \\nA) 50m \\nB) 55m \\nC) 60m \\nD) 65m\": \"A\",\n",
    "}"
   ]
  },
  {
   "cell_type": "markdown",
   "id": "2f346665",
   "metadata": {},
   "source": [
    "### V1: Proof of concept for a single test question"
   ]
  },
  {
   "cell_type": "code",
   "execution_count": null,
   "id": "0cbb2032",
   "metadata": {},
   "outputs": [],
   "source": [
    "score = 0\n",
    "\n",
    "while True:\n",
    "    countdown_thread = threading.Thread(target= countdown)\n",
    "    countdown_thread.start()\n",
    "    \n",
    "    print('\\nQuestion 1')\n",
    "    user_answer = input(\"Your answer: \")\n",
    "\n",
    "    if my_timer <= 0:\n",
    "        print('Ran out of time!')\n",
    "        break\n",
    "        \n",
    "    if 'c' == user_answer.lower():\n",
    "        print(\"Correct!\")\n",
    "        score += 1\n",
    "    else:\n",
    "        print('Incorrect')\n",
    "\n",
    "    my_timer = 0\n",
    "    countdown_thread.join()\n",
    "    \n",
    "print('Your score is ', score)"
   ]
  },
  {
   "cell_type": "markdown",
   "id": "29cbc629",
   "metadata": {},
   "source": [
    "### V2: Complete version"
   ]
  },
  {
   "cell_type": "code",
   "execution_count": 5,
   "id": "18bf7305",
   "metadata": {},
   "outputs": [
    {
     "name": "stdout",
     "output_type": "stream",
     "text": [
      "Enter your name: adr\n",
      "Hello adr! Welcome to the Quiz!\n",
      "_________________________________\n",
      "1. Start\n",
      "2. Exit\n",
      "Enter your option (Press 1 to 'Start' / Press 2 to 'Exit'): 2\n",
      "Would you like to repeat? (Y/N) n\n",
      "Program exited\n"
     ]
    }
   ],
   "source": [
    "score = 0\n",
    "repeat = 1\n",
    "while repeat:\n",
    "    while True:\n",
    "        ### INTRODUCTION\n",
    "        name = input(\"Enter your name: \")\n",
    "        print(f\"Hello {name}!\", \"Welcome to the Quiz!\")\n",
    "        print(\"_________________________________\")\n",
    "        print(\"1. Start\\n2. Exit\")\n",
    "\n",
    "        start = int(input(\"Enter your option (Press 1 to 'Start' / Press 2 to 'Exit'): \"))\n",
    "        if start != 1:\n",
    "            break\n",
    "        ### PLAY QUIZ\n",
    "\n",
    "        for question, answer in questions_and_answers.items():\n",
    "            countdown_thread = threading.Thread(target= countdown)\n",
    "            countdown_thread.start()\n",
    "\n",
    "            print('\\n', question)\n",
    "            user_answer = input(\"Your answer: \")\n",
    "\n",
    "            if my_timer <= 0:\n",
    "                print('Ran out of time!')\n",
    "                break\n",
    "\n",
    "            if answer.lower() == user_answer.lower():\n",
    "                print(\"Correct!\")\n",
    "                score += 1\n",
    "            else:\n",
    "                print('Incorrect')\n",
    "\n",
    "            my_timer = 0\n",
    "            countdown_thread.join()\n",
    "        print('Your score is ', score)\n",
    "        break\n",
    "    repeat = input('Would you like to repeat? (Y/N) ')\n",
    "    if repeat.lower() == 'n':\n",
    "        repeat = 0\n",
    "print('Program exited')"
   ]
  },
  {
   "cell_type": "markdown",
   "id": "e0c2af8e",
   "metadata": {},
   "source": [
    "## Answers list"
   ]
  },
  {
   "cell_type": "code",
   "execution_count": 6,
   "id": "cb6a63bd",
   "metadata": {},
   "outputs": [
    {
     "name": "stdout",
     "output_type": "stream",
     "text": [
      "C\n",
      "B\n",
      "D\n",
      "A\n",
      "C\n",
      "C\n",
      "C\n",
      "C\n",
      "C\n",
      "B\n",
      "B\n",
      "A\n",
      "C\n",
      "B\n",
      "A\n"
     ]
    }
   ],
   "source": [
    "for question, answer in questions_and_answers.items():\n",
    "    print(answer)"
   ]
  }
 ],
 "metadata": {
  "kernelspec": {
   "display_name": "Python 3 (ipykernel)",
   "language": "python",
   "name": "python3"
  },
  "language_info": {
   "codemirror_mode": {
    "name": "ipython",
    "version": 3
   },
   "file_extension": ".py",
   "mimetype": "text/x-python",
   "name": "python",
   "nbconvert_exporter": "python",
   "pygments_lexer": "ipython3",
   "version": "3.9.13"
  }
 },
 "nbformat": 4,
 "nbformat_minor": 5
}
